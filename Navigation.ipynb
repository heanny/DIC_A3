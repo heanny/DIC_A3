{
 "cells": [
  {
   "cell_type": "markdown",
   "metadata": {},
   "source": [
    "# Navigation\n",
    "---\n"
   ]
  },
  {
   "cell_type": "code",
   "execution_count": 1,
   "metadata": {},
   "outputs": [],
   "source": [
    "from mlagents_envs.environment import UnityEnvironment\n",
    "import numpy as np\n",
    "import torch\n",
    "import random\n",
    "from collections import deque\n",
    "from dqn_agent import Agent\n",
    "import os\n",
    "import matplotlib.pyplot as plt\n",
    "%matplotlib inline\n",
    "import torch\n",
    "import torch.nn as nn\n",
    "import torch.nn.functional as F\n",
    "import torchvision "
   ]
  },
  {
   "cell_type": "code",
   "execution_count": 2,
   "metadata": {},
   "outputs": [],
   "source": [
    "ENV_PATH = \"environment\""
   ]
  },
  {
   "cell_type": "code",
   "execution_count": 3,
   "metadata": {},
   "outputs": [
    {
     "name": "stdout",
     "output_type": "stream",
     "text": [
      "Requirement already satisfied: torchvision in c:\\users\\74045\\anaconda3\\lib\\site-packages (0.12.0)\n",
      "Requirement already satisfied: typing_extensions in c:\\users\\74045\\anaconda3\\lib\\site-packages (from torchvision) (3.10.0.2)\n",
      "Requirement already satisfied: numpy in c:\\users\\74045\\anaconda3\\lib\\site-packages (from torchvision) (1.21.2)\n",
      "Requirement already satisfied: requests in c:\\users\\74045\\anaconda3\\lib\\site-packages (from torchvision) (2.26.0)\n",
      "Requirement already satisfied: torch==1.11.0 in c:\\users\\74045\\anaconda3\\lib\\site-packages (from torchvision) (1.11.0)\n",
      "Requirement already satisfied: pillow!=8.3.*,>=5.3.0 in c:\\users\\74045\\anaconda3\\lib\\site-packages (from torchvision) (8.4.0)\n",
      "Requirement already satisfied: urllib3<1.27,>=1.21.1 in c:\\users\\74045\\anaconda3\\lib\\site-packages (from requests->torchvision) (1.26.7)\n",
      "Requirement already satisfied: certifi>=2017.4.17 in c:\\users\\74045\\anaconda3\\lib\\site-packages (from requests->torchvision) (2021.10.8)\n",
      "Requirement already satisfied: charset-normalizer~=2.0.0 in c:\\users\\74045\\anaconda3\\lib\\site-packages (from requests->torchvision) (2.0.4)\n",
      "Requirement already satisfied: idna<4,>=2.5 in c:\\users\\74045\\anaconda3\\lib\\site-packages (from requests->torchvision) (3.2)\n"
     ]
    }
   ],
   "source": [
    "!pip install torchvision"
   ]
  },
  {
   "cell_type": "code",
   "execution_count": 4,
   "metadata": {},
   "outputs": [],
   "source": [
    "import torchvision.transforms as transforms"
   ]
  },
  {
   "cell_type": "markdown",
   "metadata": {},
   "source": [
    "### 1. Initialise customised Banana Collecter environment"
   ]
  },
  {
   "cell_type": "markdown",
   "metadata": {},
   "source": [
    "Environments contain **_brains_** which are responsible for deciding the actions of their associated agents. Here we check for the first brain available, and set it as the default brain we will be controlling from Python."
   ]
  },
  {
   "cell_type": "code",
   "execution_count": 5,
   "metadata": {},
   "outputs": [],
   "source": [
    "def initialise_env(ENV_PATH):\n",
    "    # env = UnityEnvironment(file_name=ENV_PATH)\n",
    "    env = UnityEnvironment(file_name=\"environment\", seed=1, side_channels=[],base_port = 5004)\n",
    "    env.step()\n",
    "    # in this project, we are only using one agent, so we will only work on the first `brain` in the environmet\n",
    "    # get the default brain\n",
    "    # brain_name = env.brain_names[0]\n",
    "    brain_name = list(env.behavior_specs.keys())[0]\n",
    "    # brain = env.brains[brain_name]\n",
    "    brain = env.behavior_specs[brain_name]\n",
    "    return env, brain, brain_name"
   ]
  },
  {
   "cell_type": "code",
   "execution_count": 6,
   "metadata": {},
   "outputs": [],
   "source": [
    "env, brain, brain_name = initialise_env(ENV_PATH)"
   ]
  },
  {
   "cell_type": "code",
   "execution_count": 7,
   "metadata": {},
   "outputs": [
    {
     "name": "stdout",
     "output_type": "stream",
     "text": [
      "My Behavior?team=0\n"
     ]
    }
   ],
   "source": [
    "print(brain_name)"
   ]
  },
  {
   "cell_type": "code",
   "execution_count": 8,
   "metadata": {},
   "outputs": [],
   "source": [
    "# 先让他走几步直到需要交互\n",
    "env.step()"
   ]
  },
  {
   "cell_type": "markdown",
   "metadata": {},
   "source": [
    "### State and Action Spaces\n",
    "\n",
    "The simulation contains a single agent that navigates a large environment.  At each time step, it has four actions at its disposal:\n",
    "- `0` - walk forward \n",
    "- `1` - walk backward\n",
    "- `2` - turn left\n",
    "- `3` - turn right\n",
    "\n",
    "The state space has `37` dimensions and contains the agent's velocity, along with ray-based perception of objects around agent's forward direction.  A reward of `+1` is provided for collecting a yellow banana, and a reward of `-1` is provided for collecting a blue banana. \n",
    "\n"
   ]
  },
  {
   "cell_type": "markdown",
   "metadata": {},
   "source": [
    "### 2. Initialise the agent"
   ]
  },
  {
   "cell_type": "code",
   "execution_count": 9,
   "metadata": {},
   "outputs": [
    {
     "name": "stdout",
     "output_type": "stream",
     "text": [
      "BehaviorSpec(observation_specs=[ObservationSpec(shape=(128, 128, 3), dimension_property=(<DimensionProperty.TRANSLATIONAL_EQUIVARIANCE: 2>, <DimensionProperty.TRANSLATIONAL_EQUIVARIANCE: 2>, <DimensionProperty.NONE: 1>), observation_type=<ObservationType.DEFAULT: 0>, name='CameraSensor'), ObservationSpec(shape=(0,), dimension_property=(<DimensionProperty.NONE: 1>,), observation_type=<ObservationType.DEFAULT: 0>, name='VectorSensor'), ObservationSpec(shape=(4,), dimension_property=(<DimensionProperty.NONE: 1>,), observation_type=<ObservationType.DEFAULT: 0>, name='VectorSensor_size4')], action_spec=ActionSpec(continuous_size=0, discrete_branches=(5,)))\n"
     ]
    }
   ],
   "source": [
    "spec = env.behavior_specs['My Behavior?team=0']\n",
    "print(spec)"
   ]
  },
  {
   "cell_type": "code",
   "execution_count": 10,
   "metadata": {},
   "outputs": [],
   "source": [
    "# reset the environment\n",
    "#env_info = env.reset(train_mode=True)[brain_name]\n",
    "env_info = env.reset()\n",
    "#action_size = brain.vector_action_space_size\n",
    "#state_size = len(env_info.vector_observations[0])\n",
    "#agent = Agent(state_size=state_size, action_size=action_size, seed=0)"
   ]
  },
  {
   "cell_type": "code",
   "execution_count": 11,
   "metadata": {},
   "outputs": [
    {
     "name": "stdout",
     "output_type": "stream",
     "text": [
      "None\n"
     ]
    }
   ],
   "source": [
    "print(env_info)"
   ]
  },
  {
   "cell_type": "code",
   "execution_count": 12,
   "metadata": {},
   "outputs": [],
   "source": [
    "action_size = list(brain.action_spec)[1][0]"
   ]
  },
  {
   "cell_type": "code",
   "execution_count": 13,
   "metadata": {},
   "outputs": [],
   "source": [
    "decision_steps, terminal_steps = env.get_steps(brain_name)"
   ]
  },
  {
   "cell_type": "code",
   "execution_count": 14,
   "metadata": {},
   "outputs": [],
   "source": [
    "# state = np.array(decision_steps.obs).resize(84,84)\n",
    "# #state = np.reshape(state,-1)"
   ]
  },
  {
   "cell_type": "code",
   "execution_count": 15,
   "metadata": {},
   "outputs": [],
   "source": [
    "state_size = len(brain.observation_specs[0])"
   ]
  },
  {
   "cell_type": "code",
   "execution_count": 16,
   "metadata": {},
   "outputs": [
    {
     "name": "stdout",
     "output_type": "stream",
     "text": [
      "4\n"
     ]
    }
   ],
   "source": [
    "print(state_size)"
   ]
  },
  {
   "cell_type": "code",
   "execution_count": 17,
   "metadata": {},
   "outputs": [],
   "source": [
    "#state_size = len(env_info.vector_observations[0])\n",
    "agent = Agent(state_size=state_size, action_size=action_size, seed=0)"
   ]
  },
  {
   "cell_type": "code",
   "execution_count": 18,
   "metadata": {},
   "outputs": [],
   "source": [
    "device = torch.device(\"cpu\")"
   ]
  },
  {
   "cell_type": "markdown",
   "metadata": {},
   "source": [
    "### 3. Train agent"
   ]
  },
  {
   "cell_type": "code",
   "execution_count": 19,
   "metadata": {},
   "outputs": [],
   "source": [
    "import numpy as np\n",
    "a = []\n",
    "for act in range(5):\n",
    "    a.append(spec.action_spec.empty_action(1))\n",
    "    a[act].add_discrete(np.int32([[act]]))\n",
    "stop = a[0]\n",
    "forward = a[1]\n",
    "backward = a[2]\n",
    "turn_right = a[3]\n",
    "turn_left = a[4]"
   ]
  },
  {
   "cell_type": "code",
   "execution_count": 20,
   "metadata": {},
   "outputs": [],
   "source": [
    "def show_images(x):\n",
    "    \"\"\" plots first ncols images in a batch \"\"\"\n",
    "    x = x.squeeze(1).T\n",
    "\n",
    "    fig, ax = plt.subplots(1, 1, figsize=(20, 20))\n",
    "    ax.imshow(x, cmap=\"Greys\")\n",
    "    ax.axis('off')\n",
    "    plt.show()"
   ]
  },
  {
   "cell_type": "code",
   "execution_count": 21,
   "metadata": {},
   "outputs": [],
   "source": [
    "# import torchvision.transforms as transforms\n",
    "\n",
    "def train_dqn(agent, n_episodes=2, max_t=15, eps_start=1.0, eps_end=0.1, eps_decay=0.98):\n",
    "\n",
    "    \"\"\"Deep Q-Learning.\n",
    "\n",
    "    Params\n",
    "\n",
    "    ======\n",
    "\n",
    "        n_episodes (int): maximum number of training episodes\n",
    "\n",
    "        max_t (int): maximum number of timesteps per episode\n",
    "\n",
    "        eps_start (float): starting value of epsilon, for epsilon-greedy action selection\n",
    "\n",
    "        eps_end (float): minimum value of epsilon\n",
    "\n",
    "        eps_decay (float): multiplicative factor (per episode) for decreasing epsilon\n",
    "\n",
    "    \"\"\"\n",
    "\n",
    "    scores = []                        # list containing scores from each episode\n",
    "\n",
    "    scores_window = deque(maxlen=100)  # last 100 scores\n",
    "\n",
    "    eps = eps_start                    # initialize epsilon\n",
    "    reward = 0\n",
    "    rewards = 0\n",
    "\n",
    "    for i_episode in range(1, n_episodes+1):\n",
    "\n",
    "        #state = brain.observation_specs[0]\n",
    "\n",
    "        decision_steps, terminal_steps = env.get_steps(brain_name)\n",
    "\n",
    "        state = np.moveaxis(decision_steps.obs[0], -1, 0)\n",
    "\n",
    "        # 看有几个agent\n",
    "\n",
    "        tracked_agent = -1\n",
    "\n",
    "        done = False\n",
    "\n",
    "        score = 0\n",
    "\n",
    "        for t in range(max_t):\n",
    "\n",
    "            if tracked_agent == -1 and len(decision_steps) >= 1:\n",
    "\n",
    "                tracked_agent = decision_steps.agent_id[0]\n",
    "#             show_images(state)\n",
    "                \n",
    "\n",
    "            #env.set_actions(behavior_name, forward)\n",
    "\n",
    "            action = agent.act(state, eps)\n",
    "\n",
    "#             packed_action = spec.action_spec.empty_action(1)\n",
    "\n",
    "#             packed_action.add_discrete(np.int32([[action]]))\n",
    "\n",
    "#             print(action, brain_name)\n",
    "#             print(action)\n",
    "\n",
    "            env.set_actions(brain_name, a[action])\n",
    "\n",
    "            env.step()\n",
    "\n",
    "           \n",
    "\n",
    "            decision_steps, terminal_steps = env.get_steps(brain_name)\n",
    "\n",
    "#             print(\"~~~~~~~~~~~~~~~~~~~~~~\")\n",
    "\n",
    "#             if tracked_agent in decision_steps: # The agent requested a decision\n",
    "\n",
    "#                 episode_rewards += decision_steps[tracked_agent].reward\n",
    "\n",
    "#             if tracked_agent in terminal_steps: # The agent terminated its episode\n",
    "\n",
    "#                 episode_rewards += terminal_steps[tracked_agent].reward\n",
    "\n",
    "#                 done = True\n",
    "\n",
    "            next_state =  np.moveaxis(decision_steps.obs[0], -1, 0)   # get the next state\n",
    "    \n",
    "            if len(next_state) == 0:\n",
    "                continue\n",
    "\n",
    "            if tracked_agent in decision_steps:# The agent requested a decision\n",
    "\n",
    "                reward += decision_steps[tracked_agent].reward  # get the reward\n",
    "\n",
    "                agent.step(state, action, reward, next_state, False)\n",
    "\n",
    "            if tracked_agent in terminal_steps: # The agent terminated its episode\n",
    "\n",
    "                rewards += terminal_steps[tracked_agent].reward# get the reward\n",
    "\n",
    "                agent.step(state, action, reward, next_state, True)\n",
    "\n",
    "                break\n",
    "\n",
    "            # done = env_info.local_done[0]  \n",
    "\n",
    "            # print(terminal_steps[0])\n",
    "\n",
    "            # _,_, done = terminal_steps[0]\n",
    "\n",
    "            # done = False\n",
    "\n",
    "            agent.step(state, action, reward, next_state, done)\n",
    "\n",
    "            state = next_state\n",
    "\n",
    "            score += reward\n",
    "\n",
    "            # if done:\n",
    "\n",
    "            #     break\n",
    "\n",
    "        scores_window.append(score)       # save most recent score\n",
    "\n",
    "        scores.append(score)              # save most recent score\n",
    "#         print(\"~~~~~~~~~~~~~2~~~~~~~~~~~~~~~~~\")\n",
    "        print(scores_window)\n",
    "\n",
    "        eps = max(eps_end, eps_decay*eps) # decrease epsilon\n",
    "\n",
    "        print('\\rEpisode {}\\tAverage Score: {:.2f}'.format(i_episode, np.mean(scores_window)), end=\"\")\n",
    "\n",
    "#         if i_episode % 100 == 0:\n",
    "\n",
    "#             print('\\rEpisode {}\\tAverage Score: {:.2f}'.format(i_episode, np.mean(scores_window)))\n",
    "\n",
    "#             torch.save(agent.qnetwork_local.state_dict(), 'checkpoint.pth')\n",
    "\n",
    "#             print('saved temporary learned weight')\n",
    "\n",
    "#         if np.mean(scores_window)>=13.0:\n",
    "\n",
    "#             print('\\nEnvironment solved in {:d} episodes!\\tAverage Score: {:.2f}'.format(i_episode-100, np.mean(scores_window)))\n",
    "\n",
    "#             torch.save(agent.qnetwork_local.state_dict(), 'checkpoint.pth')\n",
    "\n",
    "#             print('agent done training')\n",
    "\n",
    "#             break\n",
    "\n",
    "    return scores\n"
   ]
  },
  {
   "cell_type": "code",
   "execution_count": 22,
   "metadata": {
    "scrolled": true
   },
   "outputs": [
    {
     "name": "stdout",
     "output_type": "stream",
     "text": [
      "1.0\n",
      "1.0\n",
      "1.0\n",
      "1.0\n",
      "1.0\n",
      "1.0\n",
      "1.0\n",
      "1.0\n",
      "1.0\n",
      "1.0\n",
      "1.0\n",
      "1.0\n",
      "1.0\n",
      "1.0\n",
      "1.0\n",
      "deque([80.0], maxlen=100)\n",
      "Episode 1\tAverage Score: 80.000.95\n",
      "0.95\n",
      "0.95\n",
      "0.95\n",
      "0.95\n",
      "0.95\n",
      "0.95\n",
      "0.95\n",
      "0.95\n",
      "0.95\n",
      "0.95\n",
      "0.95\n",
      "0.95\n",
      "0.95\n",
      "deque([80.0, 290.0], maxlen=100)\n",
      "Episode 2\tAverage Score: 185.000.9025\n",
      "0.9025\n",
      "0.9025\n",
      "0.9025\n",
      "0.9025\n",
      "0.9025\n",
      "0.9025\n",
      "0.9025\n",
      "0.9025\n",
      "0.9025\n",
      "0.9025\n",
      "0.9025\n",
      "0.9025\n",
      "0.9025\n",
      "deque([80.0, 290.0, 300.0], maxlen=100)\n",
      "Episode 3\tAverage Score: 223.330.8573749999999999\n",
      "0.8573749999999999\n",
      "0.8573749999999999\n",
      "0.8573749999999999\n",
      "0.8573749999999999\n",
      "0.8573749999999999\n",
      "0.8573749999999999\n",
      "0.8573749999999999\n",
      "0.8573749999999999\n",
      "0.8573749999999999\n",
      "0.8573749999999999\n",
      "0.8573749999999999\n",
      "0.8573749999999999\n",
      "0.8573749999999999\n",
      "deque([80.0, 290.0, 300.0, 377.0], maxlen=100)\n",
      "Episode 4\tAverage Score: 261.750.8145062499999999\n",
      "0.8145062499999999\n",
      "0.8145062499999999\n",
      "0.8145062499999999\n",
      "0.8145062499999999\n",
      "0.8145062499999999\n",
      "0.8145062499999999\n",
      "0.8145062499999999\n",
      "0.8145062499999999\n",
      "0.8145062499999999\n",
      "0.8145062499999999\n",
      "0.8145062499999999\n",
      "deque([80.0, 290.0, 300.0, 377.0, 585.0], maxlen=100)\n",
      "Episode 5\tAverage Score: 326.400.7737809374999999\n",
      "0.7737809374999999\n",
      "0.7737809374999999\n",
      "0.7737809374999999\n",
      "0.7737809374999999\n",
      "0.7737809374999999\n",
      "0.7737809374999999\n",
      "0.7737809374999999\n",
      "0.7737809374999999\n",
      "deque([80.0, 290.0, 300.0, 377.0, 585.0, 532.0], maxlen=100)\n",
      "Episode 6\tAverage Score: 360.670.7350918906249998\n",
      "0.7350918906249998\n",
      "0.7350918906249998\n",
      "0.7350918906249998\n",
      "0.7350918906249998\n",
      "0.7350918906249998\n",
      "0.7350918906249998\n",
      "0.7350918906249998\n",
      "0.7350918906249998\n",
      "0.7350918906249998\n",
      "deque([80.0, 290.0, 300.0, 377.0, 585.0, 532.0, 495.0], maxlen=100)\n",
      "Episode 7\tAverage Score: 379.860.6983372960937497\n",
      "0.6983372960937497\n",
      "0.6983372960937497\n",
      "0.6983372960937497\n",
      "0.6983372960937497\n",
      "0.6983372960937497\n",
      "0.6983372960937497\n",
      "0.6983372960937497\n",
      "0.6983372960937497\n",
      "0.6983372960937497\n",
      "deque([80.0, 290.0, 300.0, 377.0, 585.0, 532.0, 495.0, 575.0], maxlen=100)\n",
      "Episode 8\tAverage Score: 404.250.6634204312890623\n",
      "0.6634204312890623\n",
      "0.6634204312890623\n",
      "0.6634204312890623\n",
      "0.6634204312890623\n",
      "0.6634204312890623\n",
      "0.6634204312890623\n",
      "0.6634204312890623\n",
      "0.6634204312890623\n",
      "0.6634204312890623\n",
      "deque([80.0, 290.0, 300.0, 377.0, 585.0, 532.0, 495.0, 575.0, 779.0], maxlen=100)\n",
      "Episode 9\tAverage Score: 445.890.6302494097246091\n",
      "0.6302494097246091\n",
      "0.6302494097246091\n",
      "0.6302494097246091\n",
      "0.6302494097246091\n",
      "0.6302494097246091\n",
      "0.6302494097246091\n",
      "0.6302494097246091\n",
      "deque([80.0, 290.0, 300.0, 377.0, 585.0, 532.0, 495.0, 575.0, 779.0, 825.0], maxlen=100)\n",
      "Episode 10\tAverage Score: 483.800.5987369392383786\n",
      "0.5987369392383786\n",
      "0.5987369392383786\n",
      "0.5987369392383786\n",
      "0.5987369392383786\n",
      "0.5987369392383786\n",
      "0.5987369392383786\n",
      "0.5987369392383786\n",
      "0.5987369392383786\n",
      "deque([80.0, 290.0, 300.0, 377.0, 585.0, 532.0, 495.0, 575.0, 779.0, 825.0, 915.0], maxlen=100)\n",
      "Episode 11\tAverage Score: 523.000.5688000922764596\n",
      "0.5688000922764596\n",
      "0.5688000922764596\n",
      "0.5688000922764596\n",
      "0.5688000922764596\n",
      "0.5688000922764596\n",
      "0.5688000922764596\n",
      "deque([80.0, 290.0, 300.0, 377.0, 585.0, 532.0, 495.0, 575.0, 779.0, 825.0, 915.0, 915.0], maxlen=100)\n",
      "Episode 12\tAverage Score: 555.670.5403600876626365\n",
      "0.5403600876626365\n",
      "0.5403600876626365\n",
      "0.5403600876626365\n",
      "0.5403600876626365\n",
      "0.5403600876626365\n",
      "0.5403600876626365\n",
      "0.5403600876626365\n",
      "0.5403600876626365\n",
      "deque([80.0, 290.0, 300.0, 377.0, 585.0, 532.0, 495.0, 575.0, 779.0, 825.0, 915.0, 915.0, 915.0], maxlen=100)\n",
      "Episode 13\tAverage Score: 583.310.5133420832795047\n",
      "0.5133420832795047\n",
      "0.5133420832795047\n",
      "0.5133420832795047\n",
      "0.5133420832795047\n",
      "0.5133420832795047\n",
      "0.5133420832795047\n",
      "0.5133420832795047\n",
      "0.5133420832795047\n",
      "deque([80.0, 290.0, 300.0, 377.0, 585.0, 532.0, 495.0, 575.0, 779.0, 825.0, 915.0, 915.0, 915.0, 910.0], maxlen=100)\n",
      "Episode 14\tAverage Score: 606.640.48767497911552943\n",
      "0.48767497911552943\n",
      "0.48767497911552943\n",
      "0.48767497911552943\n",
      "0.48767497911552943\n",
      "0.48767497911552943\n",
      "0.48767497911552943\n",
      "0.48767497911552943\n",
      "0.48767497911552943\n",
      "0.48767497911552943\n",
      "deque([80.0, 290.0, 300.0, 377.0, 585.0, 532.0, 495.0, 575.0, 779.0, 825.0, 915.0, 915.0, 915.0, 910.0, 900.0], maxlen=100)\n",
      "Episode 15\tAverage Score: 626.200.46329123015975293\n",
      "0.46329123015975293\n",
      "0.46329123015975293\n",
      "0.46329123015975293\n",
      "0.46329123015975293\n",
      "0.46329123015975293\n",
      "0.46329123015975293\n",
      "0.46329123015975293\n",
      "deque([80.0, 290.0, 300.0, 377.0, 585.0, 532.0, 495.0, 575.0, 779.0, 825.0, 915.0, 915.0, 915.0, 910.0, 900.0, 887.0], maxlen=100)\n",
      "Episode 16\tAverage Score: 642.500.44012666865176525\n",
      "0.44012666865176525\n",
      "0.44012666865176525\n",
      "0.44012666865176525\n",
      "0.44012666865176525\n",
      "0.44012666865176525\n",
      "0.44012666865176525\n",
      "deque([80.0, 290.0, 300.0, 377.0, 585.0, 532.0, 495.0, 575.0, 779.0, 825.0, 915.0, 915.0, 915.0, 910.0, 900.0, 887.0, 844.0], maxlen=100)\n",
      "Episode 17\tAverage Score: 654.350.41812033521917696\n",
      "0.41812033521917696\n",
      "0.41812033521917696\n",
      "0.41812033521917696\n",
      "0.41812033521917696\n",
      "0.41812033521917696\n",
      "deque([80.0, 290.0, 300.0, 377.0, 585.0, 532.0, 495.0, 575.0, 779.0, 825.0, 915.0, 915.0, 915.0, 910.0, 900.0, 887.0, 844.0, 840.0], maxlen=100)\n",
      "Episode 18\tAverage Score: 664.670.3972143184582181\n",
      "0.3972143184582181\n",
      "0.3972143184582181\n",
      "0.3972143184582181\n",
      "0.3972143184582181\n",
      "0.3972143184582181\n",
      "0.3972143184582181\n",
      "0.3972143184582181\n",
      "deque([80.0, 290.0, 300.0, 377.0, 585.0, 532.0, 495.0, 575.0, 779.0, 825.0, 915.0, 915.0, 915.0, 910.0, 900.0, 887.0, 844.0, 840.0, 990.0], maxlen=100)\n",
      "Episode 19\tAverage Score: 681.790.37735360253530714\n",
      "0.37735360253530714\n",
      "0.37735360253530714\n",
      "0.37735360253530714\n",
      "deque([80.0, 290.0, 300.0, 377.0, 585.0, 532.0, 495.0, 575.0, 779.0, 825.0, 915.0, 915.0, 915.0, 910.0, 900.0, 887.0, 844.0, 840.0, 990.0, 979.0], maxlen=100)\n",
      "Episode 20\tAverage Score: 696.650.35848592240854177\n",
      "0.35848592240854177\n",
      "0.35848592240854177\n",
      "0.35848592240854177\n",
      "deque([80.0, 290.0, 300.0, 377.0, 585.0, 532.0, 495.0, 575.0, 779.0, 825.0, 915.0, 915.0, 915.0, 910.0, 900.0, 887.0, 844.0, 840.0, 990.0, 979.0, 945.0], maxlen=100)\n",
      "Episode 21\tAverage Score: 708.480.34056162628811465\n",
      "0.34056162628811465\n",
      "0.34056162628811465\n",
      "deque([80.0, 290.0, 300.0, 377.0, 585.0, 532.0, 495.0, 575.0, 779.0, 825.0, 915.0, 915.0, 915.0, 910.0, 900.0, 887.0, 844.0, 840.0, 990.0, 979.0, 945.0, 945.0], maxlen=100)\n",
      "Episode 22\tAverage Score: 719.230.3235335449737089\n",
      "0.3235335449737089\n",
      "0.3235335449737089\n",
      "0.3235335449737089\n",
      "deque([80.0, 290.0, 300.0, 377.0, 585.0, 532.0, 495.0, 575.0, 779.0, 825.0, 915.0, 915.0, 915.0, 910.0, 900.0, 887.0, 844.0, 840.0, 990.0, 979.0, 945.0, 945.0, 945.0], maxlen=100)\n",
      "Episode 23\tAverage Score: 729.040.30735686772502346\n",
      "0.30735686772502346\n",
      "0.30735686772502346\n",
      "0.30735686772502346\n",
      "deque([80.0, 290.0, 300.0, 377.0, 585.0, 532.0, 495.0, 575.0, 779.0, 825.0, 915.0, 915.0, 915.0, 910.0, 900.0, 887.0, 844.0, 840.0, 990.0, 979.0, 945.0, 945.0, 945.0, 917.0], maxlen=100)\n",
      "Episode 24\tAverage Score: 736.880.2919890243387723\n",
      "0.2919890243387723\n",
      "0.2919890243387723\n",
      "0.2919890243387723\n",
      "0.2919890243387723\n",
      "0.2919890243387723\n",
      "0.2919890243387723\n",
      "0.2919890243387723\n",
      "0.2919890243387723\n",
      "deque([80.0, 290.0, 300.0, 377.0, 585.0, 532.0, 495.0, 575.0, 779.0, 825.0, 915.0, 915.0, 915.0, 910.0, 900.0, 887.0, 844.0, 840.0, 990.0, 979.0, 945.0, 945.0, 945.0, 917.0, 885.0], maxlen=100)\n",
      "Episode 25\tAverage Score: 742.800.27738957312183365\n",
      "0.27738957312183365\n",
      "deque([80.0, 290.0, 300.0, 377.0, 585.0, 532.0, 495.0, 575.0, 779.0, 825.0, 915.0, 915.0, 915.0, 910.0, 900.0, 887.0, 844.0, 840.0, 990.0, 979.0, 945.0, 945.0, 945.0, 917.0, 885.0, 354.0], maxlen=100)\n",
      "Episode 26\tAverage Score: 727.85"
     ]
    },
    {
     "ename": "RuntimeError",
     "evalue": "Expected 3D (unbatched) or 4D (batched) input to conv2d, but got input of size: [1, 3, 0, 128, 128]",
     "output_type": "error",
     "traceback": [
      "\u001b[1;31m---------------------------------------------------------------------------\u001b[0m",
      "\u001b[1;31mRuntimeError\u001b[0m                              Traceback (most recent call last)",
      "\u001b[1;32m~\\AppData\\Local\\Temp/ipykernel_6800/2355000723.py\u001b[0m in \u001b[0;36m<module>\u001b[1;34m\u001b[0m\n\u001b[0;32m      2\u001b[0m \u001b[1;31m#     # load the weights from file\u001b[0m\u001b[1;33m\u001b[0m\u001b[1;33m\u001b[0m\u001b[0m\n\u001b[0;32m      3\u001b[0m \u001b[1;31m#     agent.qnetwork_local.load_state_dict(torch.load('checkpoint.pth'))\u001b[0m\u001b[1;33m\u001b[0m\u001b[1;33m\u001b[0m\u001b[0m\n\u001b[1;32m----> 4\u001b[1;33m \u001b[0mscores\u001b[0m \u001b[1;33m=\u001b[0m \u001b[0mtrain_dqn\u001b[0m\u001b[1;33m(\u001b[0m\u001b[0magent\u001b[0m\u001b[1;33m,\u001b[0m \u001b[0mn_episodes\u001b[0m\u001b[1;33m=\u001b[0m\u001b[1;36m100\u001b[0m\u001b[1;33m)\u001b[0m\u001b[1;33m\u001b[0m\u001b[1;33m\u001b[0m\u001b[0m\n\u001b[0m",
      "\u001b[1;32m~\\AppData\\Local\\Temp/ipykernel_6800/3116359723.py\u001b[0m in \u001b[0;36mtrain_dqn\u001b[1;34m(agent, n_episodes, max_t, eps_start, eps_end, eps_decay)\u001b[0m\n\u001b[0;32m     55\u001b[0m             \u001b[1;31m#env.set_actions(behavior_name, forward)\u001b[0m\u001b[1;33m\u001b[0m\u001b[1;33m\u001b[0m\u001b[0m\n\u001b[0;32m     56\u001b[0m \u001b[1;33m\u001b[0m\u001b[0m\n\u001b[1;32m---> 57\u001b[1;33m             \u001b[0maction\u001b[0m \u001b[1;33m=\u001b[0m \u001b[0magent\u001b[0m\u001b[1;33m.\u001b[0m\u001b[0mact\u001b[0m\u001b[1;33m(\u001b[0m\u001b[0mstate\u001b[0m\u001b[1;33m,\u001b[0m \u001b[0meps\u001b[0m\u001b[1;33m)\u001b[0m\u001b[1;33m\u001b[0m\u001b[1;33m\u001b[0m\u001b[0m\n\u001b[0m\u001b[0;32m     58\u001b[0m \u001b[1;33m\u001b[0m\u001b[0m\n\u001b[0;32m     59\u001b[0m \u001b[1;31m#             packed_action = spec.action_spec.empty_action(1)\u001b[0m\u001b[1;33m\u001b[0m\u001b[1;33m\u001b[0m\u001b[0m\n",
      "\u001b[1;32mE:\\DIC_A3-main\\environment\\dqn_agent.py\u001b[0m in \u001b[0;36mact\u001b[1;34m(self, state, eps)\u001b[0m\n\u001b[0;32m     69\u001b[0m         \u001b[0mself\u001b[0m\u001b[1;33m.\u001b[0m\u001b[0mqnetwork_local\u001b[0m\u001b[1;33m.\u001b[0m\u001b[0meval\u001b[0m\u001b[1;33m(\u001b[0m\u001b[1;33m)\u001b[0m\u001b[1;33m\u001b[0m\u001b[1;33m\u001b[0m\u001b[0m\n\u001b[0;32m     70\u001b[0m         \u001b[1;32mwith\u001b[0m \u001b[0mtorch\u001b[0m\u001b[1;33m.\u001b[0m\u001b[0mno_grad\u001b[0m\u001b[1;33m(\u001b[0m\u001b[1;33m)\u001b[0m\u001b[1;33m:\u001b[0m\u001b[1;33m\u001b[0m\u001b[1;33m\u001b[0m\u001b[0m\n\u001b[1;32m---> 71\u001b[1;33m             \u001b[0maction_values\u001b[0m \u001b[1;33m=\u001b[0m \u001b[0mself\u001b[0m\u001b[1;33m.\u001b[0m\u001b[0mqnetwork_local\u001b[0m\u001b[1;33m(\u001b[0m\u001b[0mstate\u001b[0m\u001b[1;33m)\u001b[0m\u001b[1;33m\u001b[0m\u001b[1;33m\u001b[0m\u001b[0m\n\u001b[0m\u001b[0;32m     72\u001b[0m         \u001b[0mself\u001b[0m\u001b[1;33m.\u001b[0m\u001b[0mqnetwork_local\u001b[0m\u001b[1;33m.\u001b[0m\u001b[0mtrain\u001b[0m\u001b[1;33m(\u001b[0m\u001b[1;33m)\u001b[0m\u001b[1;33m\u001b[0m\u001b[1;33m\u001b[0m\u001b[0m\n\u001b[0;32m     73\u001b[0m \u001b[1;33m\u001b[0m\u001b[0m\n",
      "\u001b[1;32m~\\anaconda3\\lib\\site-packages\\torch\\nn\\modules\\module.py\u001b[0m in \u001b[0;36m_call_impl\u001b[1;34m(self, *input, **kwargs)\u001b[0m\n\u001b[0;32m   1108\u001b[0m         if not (self._backward_hooks or self._forward_hooks or self._forward_pre_hooks or _global_backward_hooks\n\u001b[0;32m   1109\u001b[0m                 or _global_forward_hooks or _global_forward_pre_hooks):\n\u001b[1;32m-> 1110\u001b[1;33m             \u001b[1;32mreturn\u001b[0m \u001b[0mforward_call\u001b[0m\u001b[1;33m(\u001b[0m\u001b[1;33m*\u001b[0m\u001b[0minput\u001b[0m\u001b[1;33m,\u001b[0m \u001b[1;33m**\u001b[0m\u001b[0mkwargs\u001b[0m\u001b[1;33m)\u001b[0m\u001b[1;33m\u001b[0m\u001b[1;33m\u001b[0m\u001b[0m\n\u001b[0m\u001b[0;32m   1111\u001b[0m         \u001b[1;31m# Do not call functions when jit is used\u001b[0m\u001b[1;33m\u001b[0m\u001b[1;33m\u001b[0m\u001b[0m\n\u001b[0;32m   1112\u001b[0m         \u001b[0mfull_backward_hooks\u001b[0m\u001b[1;33m,\u001b[0m \u001b[0mnon_full_backward_hooks\u001b[0m \u001b[1;33m=\u001b[0m \u001b[1;33m[\u001b[0m\u001b[1;33m]\u001b[0m\u001b[1;33m,\u001b[0m \u001b[1;33m[\u001b[0m\u001b[1;33m]\u001b[0m\u001b[1;33m\u001b[0m\u001b[1;33m\u001b[0m\u001b[0m\n",
      "\u001b[1;32mE:\\DIC_A3-main\\environment\\model.py\u001b[0m in \u001b[0;36mforward\u001b[1;34m(self, state)\u001b[0m\n\u001b[0;32m     64\u001b[0m         \u001b[1;34m\"\"\"Build a network that maps state -> action values.\"\"\"\u001b[0m\u001b[1;33m\u001b[0m\u001b[1;33m\u001b[0m\u001b[0m\n\u001b[0;32m     65\u001b[0m \u001b[1;31m#         print(\"~~~~~~~~~~~~~~~~~~~~~\")\u001b[0m\u001b[1;33m\u001b[0m\u001b[1;33m\u001b[0m\u001b[0m\n\u001b[1;32m---> 66\u001b[1;33m         \u001b[0mx\u001b[0m \u001b[1;33m=\u001b[0m \u001b[0mself\u001b[0m\u001b[1;33m.\u001b[0m\u001b[0mconv\u001b[0m\u001b[1;33m(\u001b[0m\u001b[0mstate\u001b[0m\u001b[1;33m)\u001b[0m\u001b[1;33m\u001b[0m\u001b[1;33m\u001b[0m\u001b[0m\n\u001b[0m\u001b[0;32m     67\u001b[0m         \u001b[0mx\u001b[0m \u001b[1;33m=\u001b[0m \u001b[0mx\u001b[0m\u001b[1;33m.\u001b[0m\u001b[0mview\u001b[0m\u001b[1;33m(\u001b[0m\u001b[0mx\u001b[0m\u001b[1;33m.\u001b[0m\u001b[0msize\u001b[0m\u001b[1;33m(\u001b[0m\u001b[1;33m)\u001b[0m\u001b[1;33m[\u001b[0m\u001b[1;36m0\u001b[0m\u001b[1;33m]\u001b[0m\u001b[1;33m,\u001b[0m \u001b[1;33m-\u001b[0m\u001b[1;36m1\u001b[0m\u001b[1;33m)\u001b[0m\u001b[1;33m\u001b[0m\u001b[1;33m\u001b[0m\u001b[0m\n\u001b[0;32m     68\u001b[0m         \u001b[0mh\u001b[0m \u001b[1;33m=\u001b[0m \u001b[0mself\u001b[0m\u001b[1;33m.\u001b[0m\u001b[0mseq\u001b[0m\u001b[1;33m(\u001b[0m\u001b[0mx\u001b[0m\u001b[1;33m)\u001b[0m\u001b[1;33m\u001b[0m\u001b[1;33m\u001b[0m\u001b[0m\n",
      "\u001b[1;32m~\\anaconda3\\lib\\site-packages\\torch\\nn\\modules\\module.py\u001b[0m in \u001b[0;36m_call_impl\u001b[1;34m(self, *input, **kwargs)\u001b[0m\n\u001b[0;32m   1108\u001b[0m         if not (self._backward_hooks or self._forward_hooks or self._forward_pre_hooks or _global_backward_hooks\n\u001b[0;32m   1109\u001b[0m                 or _global_forward_hooks or _global_forward_pre_hooks):\n\u001b[1;32m-> 1110\u001b[1;33m             \u001b[1;32mreturn\u001b[0m \u001b[0mforward_call\u001b[0m\u001b[1;33m(\u001b[0m\u001b[1;33m*\u001b[0m\u001b[0minput\u001b[0m\u001b[1;33m,\u001b[0m \u001b[1;33m**\u001b[0m\u001b[0mkwargs\u001b[0m\u001b[1;33m)\u001b[0m\u001b[1;33m\u001b[0m\u001b[1;33m\u001b[0m\u001b[0m\n\u001b[0m\u001b[0;32m   1111\u001b[0m         \u001b[1;31m# Do not call functions when jit is used\u001b[0m\u001b[1;33m\u001b[0m\u001b[1;33m\u001b[0m\u001b[0m\n\u001b[0;32m   1112\u001b[0m         \u001b[0mfull_backward_hooks\u001b[0m\u001b[1;33m,\u001b[0m \u001b[0mnon_full_backward_hooks\u001b[0m \u001b[1;33m=\u001b[0m \u001b[1;33m[\u001b[0m\u001b[1;33m]\u001b[0m\u001b[1;33m,\u001b[0m \u001b[1;33m[\u001b[0m\u001b[1;33m]\u001b[0m\u001b[1;33m\u001b[0m\u001b[1;33m\u001b[0m\u001b[0m\n",
      "\u001b[1;32m~\\anaconda3\\lib\\site-packages\\torch\\nn\\modules\\container.py\u001b[0m in \u001b[0;36mforward\u001b[1;34m(self, input)\u001b[0m\n\u001b[0;32m    139\u001b[0m     \u001b[1;32mdef\u001b[0m \u001b[0mforward\u001b[0m\u001b[1;33m(\u001b[0m\u001b[0mself\u001b[0m\u001b[1;33m,\u001b[0m \u001b[0minput\u001b[0m\u001b[1;33m)\u001b[0m\u001b[1;33m:\u001b[0m\u001b[1;33m\u001b[0m\u001b[1;33m\u001b[0m\u001b[0m\n\u001b[0;32m    140\u001b[0m         \u001b[1;32mfor\u001b[0m \u001b[0mmodule\u001b[0m \u001b[1;32min\u001b[0m \u001b[0mself\u001b[0m\u001b[1;33m:\u001b[0m\u001b[1;33m\u001b[0m\u001b[1;33m\u001b[0m\u001b[0m\n\u001b[1;32m--> 141\u001b[1;33m             \u001b[0minput\u001b[0m \u001b[1;33m=\u001b[0m \u001b[0mmodule\u001b[0m\u001b[1;33m(\u001b[0m\u001b[0minput\u001b[0m\u001b[1;33m)\u001b[0m\u001b[1;33m\u001b[0m\u001b[1;33m\u001b[0m\u001b[0m\n\u001b[0m\u001b[0;32m    142\u001b[0m         \u001b[1;32mreturn\u001b[0m \u001b[0minput\u001b[0m\u001b[1;33m\u001b[0m\u001b[1;33m\u001b[0m\u001b[0m\n\u001b[0;32m    143\u001b[0m \u001b[1;33m\u001b[0m\u001b[0m\n",
      "\u001b[1;32m~\\anaconda3\\lib\\site-packages\\torch\\nn\\modules\\module.py\u001b[0m in \u001b[0;36m_call_impl\u001b[1;34m(self, *input, **kwargs)\u001b[0m\n\u001b[0;32m   1108\u001b[0m         if not (self._backward_hooks or self._forward_hooks or self._forward_pre_hooks or _global_backward_hooks\n\u001b[0;32m   1109\u001b[0m                 or _global_forward_hooks or _global_forward_pre_hooks):\n\u001b[1;32m-> 1110\u001b[1;33m             \u001b[1;32mreturn\u001b[0m \u001b[0mforward_call\u001b[0m\u001b[1;33m(\u001b[0m\u001b[1;33m*\u001b[0m\u001b[0minput\u001b[0m\u001b[1;33m,\u001b[0m \u001b[1;33m**\u001b[0m\u001b[0mkwargs\u001b[0m\u001b[1;33m)\u001b[0m\u001b[1;33m\u001b[0m\u001b[1;33m\u001b[0m\u001b[0m\n\u001b[0m\u001b[0;32m   1111\u001b[0m         \u001b[1;31m# Do not call functions when jit is used\u001b[0m\u001b[1;33m\u001b[0m\u001b[1;33m\u001b[0m\u001b[0m\n\u001b[0;32m   1112\u001b[0m         \u001b[0mfull_backward_hooks\u001b[0m\u001b[1;33m,\u001b[0m \u001b[0mnon_full_backward_hooks\u001b[0m \u001b[1;33m=\u001b[0m \u001b[1;33m[\u001b[0m\u001b[1;33m]\u001b[0m\u001b[1;33m,\u001b[0m \u001b[1;33m[\u001b[0m\u001b[1;33m]\u001b[0m\u001b[1;33m\u001b[0m\u001b[1;33m\u001b[0m\u001b[0m\n",
      "\u001b[1;32m~\\anaconda3\\lib\\site-packages\\torch\\nn\\modules\\conv.py\u001b[0m in \u001b[0;36mforward\u001b[1;34m(self, input)\u001b[0m\n\u001b[0;32m    445\u001b[0m \u001b[1;33m\u001b[0m\u001b[0m\n\u001b[0;32m    446\u001b[0m     \u001b[1;32mdef\u001b[0m \u001b[0mforward\u001b[0m\u001b[1;33m(\u001b[0m\u001b[0mself\u001b[0m\u001b[1;33m,\u001b[0m \u001b[0minput\u001b[0m\u001b[1;33m:\u001b[0m \u001b[0mTensor\u001b[0m\u001b[1;33m)\u001b[0m \u001b[1;33m->\u001b[0m \u001b[0mTensor\u001b[0m\u001b[1;33m:\u001b[0m\u001b[1;33m\u001b[0m\u001b[1;33m\u001b[0m\u001b[0m\n\u001b[1;32m--> 447\u001b[1;33m         \u001b[1;32mreturn\u001b[0m \u001b[0mself\u001b[0m\u001b[1;33m.\u001b[0m\u001b[0m_conv_forward\u001b[0m\u001b[1;33m(\u001b[0m\u001b[0minput\u001b[0m\u001b[1;33m,\u001b[0m \u001b[0mself\u001b[0m\u001b[1;33m.\u001b[0m\u001b[0mweight\u001b[0m\u001b[1;33m,\u001b[0m \u001b[0mself\u001b[0m\u001b[1;33m.\u001b[0m\u001b[0mbias\u001b[0m\u001b[1;33m)\u001b[0m\u001b[1;33m\u001b[0m\u001b[1;33m\u001b[0m\u001b[0m\n\u001b[0m\u001b[0;32m    448\u001b[0m \u001b[1;33m\u001b[0m\u001b[0m\n\u001b[0;32m    449\u001b[0m \u001b[1;32mclass\u001b[0m \u001b[0mConv3d\u001b[0m\u001b[1;33m(\u001b[0m\u001b[0m_ConvNd\u001b[0m\u001b[1;33m)\u001b[0m\u001b[1;33m:\u001b[0m\u001b[1;33m\u001b[0m\u001b[1;33m\u001b[0m\u001b[0m\n",
      "\u001b[1;32m~\\anaconda3\\lib\\site-packages\\torch\\nn\\modules\\conv.py\u001b[0m in \u001b[0;36m_conv_forward\u001b[1;34m(self, input, weight, bias)\u001b[0m\n\u001b[0;32m    441\u001b[0m                             \u001b[0mweight\u001b[0m\u001b[1;33m,\u001b[0m \u001b[0mbias\u001b[0m\u001b[1;33m,\u001b[0m \u001b[0mself\u001b[0m\u001b[1;33m.\u001b[0m\u001b[0mstride\u001b[0m\u001b[1;33m,\u001b[0m\u001b[1;33m\u001b[0m\u001b[1;33m\u001b[0m\u001b[0m\n\u001b[0;32m    442\u001b[0m                             _pair(0), self.dilation, self.groups)\n\u001b[1;32m--> 443\u001b[1;33m         return F.conv2d(input, weight, bias, self.stride,\n\u001b[0m\u001b[0;32m    444\u001b[0m                         self.padding, self.dilation, self.groups)\n\u001b[0;32m    445\u001b[0m \u001b[1;33m\u001b[0m\u001b[0m\n",
      "\u001b[1;31mRuntimeError\u001b[0m: Expected 3D (unbatched) or 4D (batched) input to conv2d, but got input of size: [1, 3, 0, 128, 128]"
     ]
    }
   ],
   "source": [
    "# if os.path.isfile('./checkpoint.pth'):\n",
    "#     # load the weights from file\n",
    "#     agent.qnetwork_local.load_state_dict(torch.load('checkpoint.pth'))\n",
    "scores = train_dqn(agent, n_episodes=100)"
   ]
  },
  {
   "cell_type": "code",
   "execution_count": 28,
   "metadata": {},
   "outputs": [],
   "source": [
    "if os.path.isfile('./checkpoint.pth'):\n",
    "    # load the weights from file\n",
    "    agent.qnetwork_local.load_state_dict(torch.load('checkpoint.pth'))"
   ]
  },
  {
   "cell_type": "markdown",
   "metadata": {},
   "source": [
    "#### 4. Plot performance"
   ]
  },
  {
   "cell_type": "code",
   "execution_count": 22,
   "metadata": {},
   "outputs": [
    {
     "data": {
      "image/png": "[encoded data removed]",
      "text/plain": [
       "<Figure size 432x288 with 1 Axes>"
      ]
     },
     "metadata": {
      "needs_background": "light"
     },
     "output_type": "display_data"
    }
   ],
   "source": [
    "# plot the scores\n",
    "fig = plt.figure()\n",
    "ax = fig.add_subplot(111)\n",
    "plt.plot(np.arange(len(scores)), scores)\n",
    "plt.ylabel('Score')\n",
    "plt.xlabel('Episode #')\n",
    "plt.show()"
   ]
  },
  {
   "cell_type": "markdown",
   "metadata": {},
   "source": [
    "### 5. Watch a trained agent!"
   ]
  },
  {
   "cell_type": "code",
   "execution_count": 8,
   "metadata": {},
   "outputs": [],
   "source": [
    "def watch_banana_agent(agent, env, n_episodes=4, n_steps=300):\n",
    "\n",
    "                                   \n",
    "    \n",
    "    for episode in range(n_episodes):\n",
    "        \n",
    "        env_info = env.reset(train_mode=False)[brain_name] # reset the environment\n",
    "        state = env_info.vector_observations[0]            # get the current state\n",
    "        score = 0                                          # initialize the score\n",
    "        \n",
    "        for step in range(n_steps):\n",
    "\n",
    "            action = agent.act(state)                 # select an action\n",
    "            env_info = env.step(action)[brain_name]        # send the action to the environment\n",
    "            next_state = env_info.vector_observations[0]   # get the next state\n",
    "            reward = env_info.rewards[0]                   # get the reward\n",
    "            done = env_info.local_done[0]                  # see if episode has finished\n",
    "            score += reward                                # update the score\n",
    "            state = next_state                             # roll over the state to next time step\n",
    "            if done:                                       # exit loop if episode finished\n",
    "                break\n",
    "\n",
    "        print(\"Score: {}\".format(score))"
   ]
  },
  {
   "cell_type": "code",
   "execution_count": 10,
   "metadata": {},
   "outputs": [
    {
     "name": "stdout",
     "output_type": "stream",
     "text": [
      "Score: 3.0\n",
      "Score: 9.0\n",
      "Score: 8.0\n",
      "Score: 20.0\n"
     ]
    }
   ],
   "source": [
    "watch_banana_agent(agent, env)"
   ]
  },
  {
   "cell_type": "code",
   "execution_count": 15,
   "metadata": {},
   "outputs": [],
   "source": [
    "env.close()"
   ]
  }
 ],
 "metadata": {
  "kernelspec": {
   "display_name": "Python 3 (ipykernel)",
   "language": "python",
   "name": "python3"
  },
  "language_info": {
   "codemirror_mode": {
    "name": "ipython",
    "version": 3
   },
   "file_extension": ".py",
   "mimetype": "text/x-python",
   "name": "python",
   "nbconvert_exporter": "python",
   "pygments_lexer": "ipython3",
   "version": "3.9.7"
  }
 },
 "nbformat": 4,
 "nbformat_minor": 4
}
